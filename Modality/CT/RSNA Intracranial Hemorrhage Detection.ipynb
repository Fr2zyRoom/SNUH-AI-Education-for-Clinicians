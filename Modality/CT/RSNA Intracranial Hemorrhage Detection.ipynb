{
 "cells": [
  {
   "cell_type": "markdown",
   "metadata": {},
   "source": [
    "# RSNA Intracranial Hemorrhage Detection\n",
    "In this competition, your challenge is to build an algorithm to detect acute intracranial hemorrhage and its subtypes."
   ]
  },
  {
   "cell_type": "markdown",
   "metadata": {},
   "source": [
    "## Intracranial hemorrhage"
   ]
  },
  {
   "cell_type": "markdown",
   "metadata": {},
   "source": [
    "![subtype](sample/subtypes-of-hemorrhage.png)"
   ]
  },
  {
   "cell_type": "markdown",
   "metadata": {},
   "source": [
    "## Opening\n",
    "- Datatype\n",
    "    - <a href='#hemo_label'>Label</a>: CSV file\n",
    "    - <a href='#Image_Folder'>Image Folder</a>: DICOM file\n",
    "        \n",
    "- Working with dicom files\n",
    "    - <a href='#image'>`Image-wise steps`</a>\n",
    "        - Step1: Control File Meta Information\n",
    "        - Step2-1: Control dicom image\n",
    "        - Step2-2: Transforming to Hounsfield Units\n",
    "        - Step2-3: Image Windowing\n",
    "    - <a href='#slice'>`Slice-wise steps`</a>\n",
    "        - Step1-1: Load CT-scans per patient\n",
    "        - Step1-2: Visualize\n",
    "        - Step2: Slices Windowing\n",
    "    - <a href='#voxel'>`Voxel-wise steps`</a>\n",
    "        - Step1: The voxel size\n",
    "        - Step2: Slice Thickness\n",
    "        - Step3: Resampling the voxel size"
   ]
  },
  {
   "cell_type": "code",
   "execution_count": 2,
   "metadata": {},
   "outputs": [],
   "source": [
    "from IPython.display import Image\n",
    "import os\n",
    "import numpy as np\n",
    "import pandas as pd\n",
    "import scipy\n",
    "import seaborn as sns\n",
    "import pydicom"
   ]
  },
  {
   "cell_type": "markdown",
   "metadata": {},
   "source": [
    "<a id='hemo_label'></a>\n",
    "## Label\n",
    "- The probability of whether that sub-type of hemorrhage (or any hemorrhage in the case of any) exists in the indicated image.\n",
    "- Subtypes\n",
    "    - epidural_hemorrhage\n",
    "    - intraparenchymal_hemorrhage\n",
    "    - intraventricular_hemorrhage\n",
    "    - subarachnoid_hemorrhage\n",
    "    - subdural_hemorrhage\n",
    "    - any"
   ]
  },
  {
   "cell_type": "code",
   "execution_count": 3,
   "metadata": {},
   "outputs": [
    {
     "name": "stdout",
     "output_type": "stream",
     "text": [
      "/home/CT\n"
     ]
    }
   ],
   "source": [
    "!pwd"
   ]
  },
  {
   "cell_type": "code",
   "execution_count": 7,
   "metadata": {},
   "outputs": [
    {
     "name": "stdout",
     "output_type": "stream",
     "text": [
      "\u001b[01;34m./input/rsna-intracranial-hemorrhage-detection\u001b[00m\n",
      "├── stage_2_sample_submission.csv\n",
      "├── \u001b[01;34mstage_2_test\u001b[00m\n",
      "├── \u001b[01;34mstage_2_train\u001b[00m\n",
      "└── stage_2_train.csv\n",
      "\n",
      "2 directories, 2 files\n"
     ]
    }
   ],
   "source": [
    "!tree ./input/rsna-intracranial-hemorrhage-detection -L 1"
   ]
  },
  {
   "cell_type": "code",
   "execution_count": 13,
   "metadata": {},
   "outputs": [
    {
     "data": {
      "text/plain": [
       "['stage_2_train.csv',\n",
       " 'stage_2_train',\n",
       " 'stage_2_sample_submission.csv',\n",
       " 'stage_2_test']"
      ]
     },
     "execution_count": 13,
     "metadata": {},
     "output_type": "execute_result"
    }
   ],
   "source": [
    "basepath = \"./input/rsna-intracranial-hemorrhage-detection/\"\n",
    "os.listdir(basepath)"
   ]
  },
  {
   "cell_type": "markdown",
   "metadata": {},
   "source": [
    "- `Id` : `[Image Id]_[Sub-type Name]` \n",
    "- `Label` : `probability of whether that sub-type of hemorrhage`"
   ]
  },
  {
   "cell_type": "code",
   "execution_count": 16,
   "metadata": {},
   "outputs": [],
   "source": [
    "train = pd.read_csv(basepath + \"stage_2_train.csv\")"
   ]
  },
  {
   "cell_type": "code",
   "execution_count": 18,
   "metadata": {},
   "outputs": [
    {
     "data": {
      "text/html": [
       "<div>\n",
       "<style scoped>\n",
       "    .dataframe tbody tr th:only-of-type {\n",
       "        vertical-align: middle;\n",
       "    }\n",
       "\n",
       "    .dataframe tbody tr th {\n",
       "        vertical-align: top;\n",
       "    }\n",
       "\n",
       "    .dataframe thead th {\n",
       "        text-align: right;\n",
       "    }\n",
       "</style>\n",
       "<table border=\"1\" class=\"dataframe\">\n",
       "  <thead>\n",
       "    <tr style=\"text-align: right;\">\n",
       "      <th></th>\n",
       "      <th>ID</th>\n",
       "      <th>Label</th>\n",
       "    </tr>\n",
       "  </thead>\n",
       "  <tbody>\n",
       "    <tr>\n",
       "      <th>4516836</th>\n",
       "      <td>ID_4a85a3a3f_epidural</td>\n",
       "      <td>0</td>\n",
       "    </tr>\n",
       "    <tr>\n",
       "      <th>4516837</th>\n",
       "      <td>ID_4a85a3a3f_intraparenchymal</td>\n",
       "      <td>0</td>\n",
       "    </tr>\n",
       "    <tr>\n",
       "      <th>4516838</th>\n",
       "      <td>ID_4a85a3a3f_intraventricular</td>\n",
       "      <td>0</td>\n",
       "    </tr>\n",
       "    <tr>\n",
       "      <th>4516839</th>\n",
       "      <td>ID_4a85a3a3f_subarachnoid</td>\n",
       "      <td>0</td>\n",
       "    </tr>\n",
       "    <tr>\n",
       "      <th>4516840</th>\n",
       "      <td>ID_4a85a3a3f_subdural</td>\n",
       "      <td>0</td>\n",
       "    </tr>\n",
       "    <tr>\n",
       "      <th>4516841</th>\n",
       "      <td>ID_4a85a3a3f_any</td>\n",
       "      <td>0</td>\n",
       "    </tr>\n",
       "  </tbody>\n",
       "</table>\n",
       "</div>"
      ],
      "text/plain": [
       "                                    ID  Label\n",
       "4516836          ID_4a85a3a3f_epidural      0\n",
       "4516837  ID_4a85a3a3f_intraparenchymal      0\n",
       "4516838  ID_4a85a3a3f_intraventricular      0\n",
       "4516839      ID_4a85a3a3f_subarachnoid      0\n",
       "4516840          ID_4a85a3a3f_subdural      0\n",
       "4516841               ID_4a85a3a3f_any      0"
      ]
     },
     "execution_count": 18,
     "metadata": {},
     "output_type": "execute_result"
    }
   ],
   "source": [
    "train.tail(6)"
   ]
  },
  {
   "cell_type": "code",
   "execution_count": 20,
   "metadata": {},
   "outputs": [
    {
     "data": {
      "text/plain": [
       "0"
      ]
     },
     "execution_count": 20,
     "metadata": {},
     "output_type": "execute_result"
    }
   ],
   "source": [
    "train.Label.isnull().sum()"
   ]
  },
  {
   "cell_type": "code",
   "execution_count": null,
   "metadata": {},
   "outputs": [],
   "source": []
  },
  {
   "cell_type": "markdown",
   "metadata": {},
   "source": [
    "<a id='Image_Folder'></a> \n",
    "## Image Folder\n",
    "- The name of each image is given by: `ID_[Image Id].dcm`\n",
    "- Example\n",
    "    - ID_4a85a3a3f.dcm"
   ]
  },
  {
   "cell_type": "code",
   "execution_count": 21,
   "metadata": {},
   "outputs": [
    {
     "name": "stdout",
     "output_type": "stream",
     "text": [
      "\u001b[01;34m./input/rsna-intracranial-hemorrhage-detection\u001b[00m\n",
      "├── stage_2_sample_submission.csv\n",
      "├── \u001b[01;34mstage_2_test\u001b[00m\n",
      "│   ├── ID_000000e27.dcm\n",
      "│   ├── ID_000009146.dcm\n",
      "│   ├── ID_00007b8cb.dcm\n",
      "│   ├── ID_000134952.dcm\n",
      "│   └── ID_000176f2a.dcm\n",
      "├── \u001b[01;34mstage_2_train\u001b[00m\n",
      "│   ├── ID_000012eaf.dcm\n",
      "│   ├── ID_000039fa0.dcm\n",
      "│   ├── ID_00005679d.dcm\n",
      "│   ├── ID_00008ce3c.dcm\n",
      "│   └── ID_0000950d7.dcm\n",
      "└── stage_2_train.csv\n",
      "\n",
      "2 directories, 12 files\n"
     ]
    }
   ],
   "source": [
    "!tree ./input/rsna-intracranial-hemorrhage-detection"
   ]
  },
  {
   "cell_type": "code",
   "execution_count": 22,
   "metadata": {},
   "outputs": [],
   "source": [
    "IMG_EXTENSION = ['.dcm', '.DCM']"
   ]
  },
  {
   "cell_type": "code",
   "execution_count": 23,
   "metadata": {},
   "outputs": [],
   "source": [
    "def check_extension(filename):\n",
    "    return any(filename.endswith(extension) for extension in ['.dcm', '.DCM'])\n",
    "\n",
    "def load_scans_path(folder_path):\n",
    "    \"\"\"\n",
    "    find 'IMG_EXTENSION' file paths in folder.\n",
    "    return list\n",
    "    \n",
    "    \n",
    "    \"\"\"\n",
    "    \n",
    "    img_paths = []\n",
    "    assert os.path.isdir(folder_path), '%s is not a valid directory'\n",
    "\n",
    "    for root, _, fnames in sorted(os.walk(folder_path)):\n",
    "        for fname in fnames:\n",
    "            if check_extension(fname):\n",
    "                path = os.path.join(root, fname)\n",
    "                img_paths.append(path)\n",
    "    return img_paths[:]"
   ]
  },
  {
   "cell_type": "code",
   "execution_count": 24,
   "metadata": {},
   "outputs": [],
   "source": [
    "#trainpath = \"/home/Samples/3/44173799/Thick CT\"\n",
    "trainpath = \"./input/rsna-intracranial-hemorrhage-detection/stage_2_train\"\n",
    "\n",
    "train_img_paths = load_scans_path(trainpath)"
   ]
  },
  {
   "cell_type": "code",
   "execution_count": 25,
   "metadata": {},
   "outputs": [
    {
     "data": {
      "text/plain": [
       "['./input/rsna-intracranial-hemorrhage-detection/stage_2_train/ID_00005679d.dcm',\n",
       " './input/rsna-intracranial-hemorrhage-detection/stage_2_train/ID_000039fa0.dcm',\n",
       " './input/rsna-intracranial-hemorrhage-detection/stage_2_train/ID_000012eaf.dcm',\n",
       " './input/rsna-intracranial-hemorrhage-detection/stage_2_train/ID_00008ce3c.dcm',\n",
       " './input/rsna-intracranial-hemorrhage-detection/stage_2_train/ID_0000950d7.dcm']"
      ]
     },
     "execution_count": 25,
     "metadata": {},
     "output_type": "execute_result"
    }
   ],
   "source": [
    "train_img_paths"
   ]
  },
  {
   "cell_type": "markdown",
   "metadata": {},
   "source": [
    "### Working with dicom files"
   ]
  },
  {
   "cell_type": "code",
   "execution_count": 26,
   "metadata": {},
   "outputs": [],
   "source": [
    "example_path = train_img_paths[0]"
   ]
  },
  {
   "cell_type": "code",
   "execution_count": 27,
   "metadata": {},
   "outputs": [],
   "source": [
    "example = pydicom.read_file(example_path, force=True) # reading even if no File Meta Information header is found"
   ]
  },
  {
   "cell_type": "code",
   "execution_count": 28,
   "metadata": {},
   "outputs": [
    {
     "name": "stdout",
     "output_type": "stream",
     "text": [
      "Dataset.file_meta -------------------------------\n",
      "(0002, 0000) File Meta Information Group Length  UL: 176\n",
      "(0002, 0001) File Meta Information Version       OB: b'\\x00\\x01'\n",
      "(0002, 0002) Media Storage SOP Class UID         UI: CT Image Storage\n",
      "(0002, 0003) Media Storage SOP Instance UID      UI: 9999.59849366137338388474655966667577915843\n",
      "(0002, 0010) Transfer Syntax UID                 UI: Explicit VR Little Endian\n",
      "(0002, 0012) Implementation Class UID            UI: 1.2.40.0.13.1.1.1\n",
      "(0002, 0013) Implementation Version Name         SH: 'dcm4che-1.4.38'\n",
      "-------------------------------------------------\n",
      "(0008, 0018) SOP Instance UID                    UI: ID_00005679d\n",
      "(0008, 0060) Modality                            CS: 'CT'\n",
      "(0010, 0020) Patient ID                          LO: 'ID_18f2d431'\n",
      "(0020, 000d) Study Instance UID                  UI: ID_b5c26cda09\n",
      "(0020, 000e) Series Instance UID                 UI: ID_203cd6ec46\n",
      "(0020, 0010) Study ID                            SH: ''\n",
      "(0020, 0032) Image Position (Patient)            DS: [-134.463, -110.785, -39.569]\n",
      "(0020, 0037) Image Orientation (Patient)         DS: [1.000000, 0.000000, 0.000000, 0.000000, 1.000000, 0.000000]\n",
      "(0028, 0002) Samples per Pixel                   US: 1\n",
      "(0028, 0004) Photometric Interpretation          CS: 'MONOCHROME2'\n",
      "(0028, 0010) Rows                                US: 512\n",
      "(0028, 0011) Columns                             US: 512\n",
      "(0028, 0030) Pixel Spacing                       DS: [0.460938, 0.460938]\n",
      "(0028, 0100) Bits Allocated                      US: 16\n",
      "(0028, 0101) Bits Stored                         US: 16\n",
      "(0028, 0102) High Bit                            US: 15\n",
      "(0028, 0103) Pixel Representation                US: 1\n",
      "(0028, 1050) Window Center                       DS: \"50.0\"\n",
      "(0028, 1051) Window Width                        DS: \"100.0\"\n",
      "(0028, 1052) Rescale Intercept                   DS: \"-1024.0\"\n",
      "(0028, 1053) Rescale Slope                       DS: \"1.0\"\n",
      "(7fe0, 0010) Pixel Data                          OW: Array of 524288 elements\n"
     ]
    }
   ],
   "source": [
    "print(example)"
   ]
  },
  {
   "cell_type": "code",
   "execution_count": 29,
   "metadata": {},
   "outputs": [],
   "source": [
    "ex_img = example.pixel_array"
   ]
  },
  {
   "cell_type": "code",
   "execution_count": 30,
   "metadata": {},
   "outputs": [
    {
     "data": {
      "text/plain": [
       "((512, 512), numpy.ndarray, dtype('int16'))"
      ]
     },
     "execution_count": 30,
     "metadata": {},
     "output_type": "execute_result"
    }
   ],
   "source": [
    "ex_img.shape, type(ex_img), ex_img.dtype"
   ]
  },
  {
   "cell_type": "code",
   "execution_count": null,
   "metadata": {},
   "outputs": [],
   "source": []
  },
  {
   "cell_type": "code",
   "execution_count": null,
   "metadata": {},
   "outputs": [],
   "source": []
  },
  {
   "cell_type": "code",
   "execution_count": null,
   "metadata": {},
   "outputs": [],
   "source": []
  },
  {
   "cell_type": "code",
   "execution_count": null,
   "metadata": {},
   "outputs": [],
   "source": []
  },
  {
   "cell_type": "code",
   "execution_count": null,
   "metadata": {},
   "outputs": [],
   "source": []
  },
  {
   "cell_type": "code",
   "execution_count": null,
   "metadata": {},
   "outputs": [],
   "source": []
  },
  {
   "cell_type": "code",
   "execution_count": null,
   "metadata": {},
   "outputs": [],
   "source": []
  },
  {
   "cell_type": "code",
   "execution_count": null,
   "metadata": {},
   "outputs": [],
   "source": []
  },
  {
   "cell_type": "code",
   "execution_count": null,
   "metadata": {},
   "outputs": [],
   "source": []
  },
  {
   "cell_type": "code",
   "execution_count": null,
   "metadata": {},
   "outputs": [],
   "source": []
  },
  {
   "cell_type": "code",
   "execution_count": null,
   "metadata": {},
   "outputs": [],
   "source": []
  },
  {
   "cell_type": "code",
   "execution_count": null,
   "metadata": {},
   "outputs": [],
   "source": []
  },
  {
   "cell_type": "code",
   "execution_count": null,
   "metadata": {},
   "outputs": [],
   "source": []
  },
  {
   "cell_type": "code",
   "execution_count": null,
   "metadata": {},
   "outputs": [],
   "source": []
  },
  {
   "cell_type": "code",
   "execution_count": null,
   "metadata": {},
   "outputs": [],
   "source": []
  },
  {
   "cell_type": "code",
   "execution_count": null,
   "metadata": {},
   "outputs": [],
   "source": []
  },
  {
   "cell_type": "code",
   "execution_count": null,
   "metadata": {},
   "outputs": [],
   "source": []
  },
  {
   "cell_type": "code",
   "execution_count": null,
   "metadata": {},
   "outputs": [],
   "source": []
  }
 ],
 "metadata": {
  "kernelspec": {
   "display_name": "Python 3",
   "language": "python",
   "name": "python3"
  },
  "language_info": {
   "codemirror_mode": {
    "name": "ipython",
    "version": 3
   },
   "file_extension": ".py",
   "mimetype": "text/x-python",
   "name": "python",
   "nbconvert_exporter": "python",
   "pygments_lexer": "ipython3",
   "version": "3.6.9"
  }
 },
 "nbformat": 4,
 "nbformat_minor": 4
}
